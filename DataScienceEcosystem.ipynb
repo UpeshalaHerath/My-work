{
 "cells": [
  {
   "cell_type": "markdown",
   "id": "06c97a0d-bdd5-4b8b-aafc-4590f3ae1d37",
   "metadata": {},
   "source": [
    "# Data Science Tools and Ecosystem"
   ]
  },
  {
   "cell_type": "markdown",
   "id": "dece6894-ca72-4138-81e3-4c85640700da",
   "metadata": {},
   "source": [
    "In this notebook, Data Science Tools and Ecosystem are summarized."
   ]
  },
  {
   "cell_type": "markdown",
   "id": "330b848b-2a84-4051-9501-b3f0893d5dc4",
   "metadata": {},
   "source": [
    "Some of the popular languages that Data Scientists use are:\n",
    "1. Python\n",
    "2. SQL\n",
    "3. Java\n",
    "4. R"
   ]
  },
  {
   "cell_type": "markdown",
   "id": "d2a68b2e-6ee8-4faf-8b48-1d6a18757510",
   "metadata": {},
   "source": [
    "Some of the commonly used libraries used by Data Scientists include:\n",
    "1. Pandas\n",
    "2. NumPy\n",
    "3. Keras\n",
    "4. SciPy"
   ]
  },
  {
   "cell_type": "markdown",
   "id": "80409668-b7ee-4769-8262-a3840f3f16ac",
   "metadata": {},
   "source": [
    "|Data Science Tools|\n",
    "|---|\n",
    "|Hadoop|\n",
    "|Apache Spark|\n",
    "|TensorFlow|"
   ]
  },
  {
   "cell_type": "markdown",
   "id": "fba9a413-4991-43ce-b852-cb341a40a7a5",
   "metadata": {},
   "source": [
    "### Below are a few examples of evaluating arithmetic expressions in Python"
   ]
  },
  {
   "cell_type": "code",
   "execution_count": 2,
   "id": "892214e1-cb0b-41bd-8d78-dbc54098bd6a",
   "metadata": {
    "tags": []
   },
   "outputs": [
    {
     "data": {
      "text/plain": [
       "17"
      ]
     },
     "execution_count": 2,
     "metadata": {},
     "output_type": "execute_result"
    }
   ],
   "source": [
    "#This a simple arithmetic expression to mutiply then add integers\n",
    "(3*4)+5"
   ]
  },
  {
   "cell_type": "code",
   "execution_count": 3,
   "id": "713662fe-bb17-427b-a548-da4e78191113",
   "metadata": {
    "tags": []
   },
   "outputs": [
    {
     "data": {
      "text/plain": [
       "3.3333333333333335"
      ]
     },
     "execution_count": 3,
     "metadata": {},
     "output_type": "execute_result"
    }
   ],
   "source": [
    "#This will convert 200 minutes to hours by diving by 60\n",
    "200/60"
   ]
  },
  {
   "cell_type": "markdown",
   "id": "9ee9deff-4313-4c85-a951-fa4389b122bd",
   "metadata": {},
   "source": [
    "__Objectives__\n",
    "* List popular Languages for Data Science\n",
    "* List commenly used Libraries for Data Science\n",
    "* List well known Data Science Tools\n",
    "* How to provide code in cell"
   ]
  },
  {
   "cell_type": "markdown",
   "id": "f8622017-8e62-4074-bbbf-2c277824b3c5",
   "metadata": {},
   "source": [
    "## Author\n",
    "Upeshala Herath"
   ]
  },
  {
   "cell_type": "code",
   "execution_count": null,
   "id": "06d9a52e-832a-4f25-bc0e-4df6775d5138",
   "metadata": {},
   "outputs": [],
   "source": []
  }
 ],
 "metadata": {
  "kernelspec": {
   "display_name": "Python",
   "language": "python",
   "name": "conda-env-python-py"
  },
  "language_info": {
   "codemirror_mode": {
    "name": "ipython",
    "version": 3
   },
   "file_extension": ".py",
   "mimetype": "text/x-python",
   "name": "python",
   "nbconvert_exporter": "python",
   "pygments_lexer": "ipython3",
   "version": "3.7.12"
  }
 },
 "nbformat": 4,
 "nbformat_minor": 5
}
